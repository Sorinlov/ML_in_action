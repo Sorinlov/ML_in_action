{
 "cells": [
  {
   "cell_type": "code",
   "execution_count": 3,
   "metadata": {
    "collapsed": true
   },
   "outputs": [],
   "source": [
    "import numpy as np"
   ]
  },
  {
   "cell_type": "code",
   "execution_count": 4,
   "metadata": {
    "collapsed": true
   },
   "outputs": [],
   "source": [
    "def sigmoid(x):\n",
    "    return 1/(1 + np.exp(-x))"
   ]
  },
  {
   "cell_type": "code",
   "execution_count": 5,
   "metadata": {
    "collapsed": true
   },
   "outputs": [],
   "source": [
    "def dsigmoid(x):\n",
    "    return x*(1 - x)"
   ]
  },
  {
   "cell_type": "code",
   "execution_count": 6,
   "metadata": {
    "collapsed": true
   },
   "outputs": [],
   "source": [
    "input_size = 2\n",
    "hide_size = 2\n",
    "output_size = 1 "
   ]
  },
  {
   "cell_type": "code",
   "execution_count": 7,
   "metadata": {
    "collapsed": true
   },
   "outputs": [],
   "source": [
    "w1 = np.ones((input_size, hide_size)) #(2,2)\n",
    "w2 = np.ones((hide_size, output_size)) #(2,1)"
   ]
  },
  {
   "cell_type": "code",
   "execution_count": 8,
   "metadata": {
    "collapsed": true
   },
   "outputs": [],
   "source": [
    "def loss(X, y, w1, w2):\n",
    "    m,n = X.shape #(1,2)\n",
    "    #forward\n",
    "    a1 = X #(1,2)\n",
    "    a2 = sigmoid(X.dot(w1)) #hide_layer (1,2)\n",
    "    a3 = sigmoid(a2.dot(w2)) #output_layer (1,1)\n",
    "    \n",
    "    #backward\n",
    "    e3 = (a3 - y) * dsigmoid(a3) #(1,1) #！！！存在争议，是否有dsigmoid\n",
    "    dw2 = a2.T.dot(e3) #(2,1)\n",
    "    #b2 = np.sum(e3) \n",
    "    \n",
    "    e2 = e3.dot(w2.T) * dsigmoid(a2) #(1,2) * (1,2)\n",
    "    dw1 = a1.T.dot(e2) #(1,2)\n",
    "    #b1 = np.sum(e2)\n",
    "    \n",
    "    return dw1, dw2"
   ]
  },
  {
   "cell_type": "code",
   "execution_count": 17,
   "metadata": {},
   "outputs": [
    {
     "data": {
      "text/plain": [
       "((2, 2), (2, 1))"
      ]
     },
     "execution_count": 17,
     "metadata": {},
     "output_type": "execute_result"
    }
   ],
   "source": [
    "X = np.array([[0, 0],[0,1]]) #注意X的shape\n",
    "y = np.array([[0],[1]])\n",
    "X.shape, y.shape"
   ]
  },
  {
   "cell_type": "code",
   "execution_count": 10,
   "metadata": {
    "collapsed": true
   },
   "outputs": [],
   "source": [
    "dw1, dw2 = loss(X, y, w1, w2)"
   ]
  },
  {
   "cell_type": "code",
   "execution_count": 11,
   "metadata": {},
   "outputs": [
    {
     "data": {
      "text/plain": [
       "array([[ 0.07186742],\n",
       "       [ 0.07186742]])"
      ]
     },
     "execution_count": 11,
     "metadata": {},
     "output_type": "execute_result"
    }
   ],
   "source": [
    "dw2"
   ]
  },
  {
   "cell_type": "code",
   "execution_count": null,
   "metadata": {
    "collapsed": true
   },
   "outputs": [],
   "source": [
    "def train(X, y, w1, w2, learn_rate = 10):\n",
    "    X = X\n",
    "    y = y\n",
    "    w1 = w1\n",
    "    w2 = w2\n",
    "    for x in X:\n",
    "        dw1, dw2 = loss(x, y, w1, w2)\n",
    "        w1 -= learn_rate * dw1\n",
    "        w2 -= learn_rate * dw2\n",
    "    return w1, w2\n",
    "\n",
    "train()"
   ]
  },
  {
   "cell_type": "code",
   "execution_count": 32,
   "metadata": {},
   "outputs": [
    {
     "name": "stdout",
     "output_type": "stream",
     "text": [
      "[[ 1.          1.        ]\n",
      " [ 1.03863664  1.03863664]] [[ 0.25845677]\n",
      " [ 0.25845677]]\n",
      "[[ 1.          1.        ]\n",
      " [ 1.07468861  1.07468861]] [[ 0.98091398]\n",
      " [ 0.98091398]]\n"
     ]
    }
   ],
   "source": [
    "learn_rate = 10\n",
    "for i in range(len(X)):\n",
    "    dw1, dw2 = loss(X[[i]], y[[i]], w1, w2)\n",
    "    w1 -= learn_rate * dw1\n",
    "    w2 -= learn_rate * dw2\n",
    "    print(w1,w2)"
   ]
  },
  {
   "cell_type": "code",
   "execution_count": 31,
   "metadata": {},
   "outputs": [
    {
     "data": {
      "text/plain": [
       "(array([[ 1.        ,  1.        ],\n",
       "        [ 1.03863664,  1.03863664]]), array([[ 0.97984752],\n",
       "        [ 0.97984752]]))"
      ]
     },
     "execution_count": 31,
     "metadata": {},
     "output_type": "execute_result"
    }
   ],
   "source": [
    "w1, w2"
   ]
  },
  {
   "cell_type": "code",
   "execution_count": null,
   "metadata": {
    "collapsed": true
   },
   "outputs": [],
   "source": []
  }
 ],
 "metadata": {
  "kernelspec": {
   "display_name": "Python 3",
   "language": "python",
   "name": "python3"
  },
  "language_info": {
   "codemirror_mode": {
    "name": "ipython",
    "version": 3
   },
   "file_extension": ".py",
   "mimetype": "text/x-python",
   "name": "python",
   "nbconvert_exporter": "python",
   "pygments_lexer": "ipython3",
   "version": "3.6.3"
  }
 },
 "nbformat": 4,
 "nbformat_minor": 2
}
